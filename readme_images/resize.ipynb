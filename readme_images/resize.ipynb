{
 "cells": [
  {
   "cell_type": "code",
   "execution_count": 1,
   "metadata": {},
   "outputs": [
    {
     "name": "stdout",
     "output_type": "stream",
     "text": [
      "Combined image saved to combined_images.png\n"
     ]
    }
   ],
   "source": [
    "from PIL import Image\n",
    "import os\n",
    "\n",
    "def create_image_grid(image_paths, grid_size, target_size, output_path):\n",
    "    \"\"\"\n",
    "    Create a grid of resized images and save the combined image.\n",
    "    \n",
    "    Parameters:\n",
    "    - image_paths (list): List of paths to input image files.\n",
    "    - grid_size (tuple): Size of the grid (rows, columns).\n",
    "    - target_size (tuple): Target size of each resized image (width, height).\n",
    "    - output_path (str): Path to save the combined image.\n",
    "    \"\"\"\n",
    "    # Open and resize each image\n",
    "    resized_images = []\n",
    "    for img_path in image_paths:\n",
    "        with Image.open(img_path) as img:\n",
    "            resized_img = img.resize(target_size)\n",
    "            resized_images.append(resized_img)\n",
    "    \n",
    "    # Create a new blank image with the size of the grid\n",
    "    grid_width = grid_size[1] * target_size[0]\n",
    "    grid_height = grid_size[0] * target_size[1]\n",
    "    combined_img = Image.new('RGB', (grid_width, grid_height))\n",
    "    \n",
    "    # Paste each resized image into the combined image\n",
    "    for i, img in enumerate(resized_images):\n",
    "        row = i // grid_size[1]\n",
    "        col = i % grid_size[1]\n",
    "        combined_img.paste(img, (col * target_size[0], row * target_size[1]))\n",
    "    \n",
    "    # Save the combined image\n",
    "    combined_img.save(output_path)\n",
    "    print(f\"Combined image saved to {output_path}\")\n",
    "\n",
    "# Example usage\n",
    "image_paths = ['predict_1.png', 'predict_2.png', 'predict_3.png', 'predict_4.png']\n",
    "grid_size = (2, 2)  # 2x2 grid\n",
    "target_size = (3000, 300)  # Target size for each resized image\n",
    "output_path = 'combined_images.png'\n",
    "\n",
    "# Call the function to create the grid of images\n",
    "create_image_grid(image_paths, grid_size, target_size, output_path)"
   ]
  },
  {
   "cell_type": "code",
   "execution_count": null,
   "metadata": {},
   "outputs": [],
   "source": []
  }
 ],
 "metadata": {
  "kernelspec": {
   "display_name": "Python 3",
   "language": "python",
   "name": "python3"
  },
  "language_info": {
   "codemirror_mode": {
    "name": "ipython",
    "version": 3
   },
   "file_extension": ".py",
   "mimetype": "text/x-python",
   "name": "python",
   "nbconvert_exporter": "python",
   "pygments_lexer": "ipython3",
   "version": "3.10.13"
  }
 },
 "nbformat": 4,
 "nbformat_minor": 2
}
